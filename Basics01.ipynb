{
 "cells": [
  {
   "cell_type": "raw",
   "id": "f6a13341",
   "metadata": {},
   "source": [
    "shift + tab => docstring\n",
    "ctrl + enter => execute cell code\n",
    "shift + Enter => execute cell and shift control to next cell"
   ]
  },
  {
   "cell_type": "code",
   "execution_count": 1,
   "id": "309b6fde",
   "metadata": {},
   "outputs": [
    {
     "data": {
      "text/plain": [
       "7"
      ]
     },
     "execution_count": 1,
     "metadata": {},
     "output_type": "execute_result"
    }
   ],
   "source": [
    "#This is a comment\n",
    "\n",
    "4+3"
   ]
  },
  {
   "cell_type": "code",
   "execution_count": 2,
   "id": "5d5beae1",
   "metadata": {},
   "outputs": [
    {
     "data": {
      "text/plain": [
       "63"
      ]
     },
     "execution_count": 2,
     "metadata": {},
     "output_type": "execute_result"
    }
   ],
   "source": [
    "9*7"
   ]
  },
  {
   "cell_type": "code",
   "execution_count": 3,
   "id": "4d53c849",
   "metadata": {},
   "outputs": [
    {
     "data": {
      "text/plain": [
       "1"
      ]
     },
     "execution_count": 3,
     "metadata": {},
     "output_type": "execute_result"
    }
   ],
   "source": [
    "6-5"
   ]
  },
  {
   "cell_type": "code",
   "execution_count": 4,
   "id": "9b55ad56",
   "metadata": {},
   "outputs": [
    {
     "data": {
      "text/plain": [
       "20.0"
      ]
     },
     "execution_count": 4,
     "metadata": {},
     "output_type": "execute_result"
    }
   ],
   "source": [
    "100/5"
   ]
  },
  {
   "cell_type": "code",
   "execution_count": 5,
   "id": "5864ca4c",
   "metadata": {},
   "outputs": [
    {
     "name": "stdout",
     "output_type": "stream",
     "text": [
      "6\n",
      "1\n",
      "-2\n"
     ]
    }
   ],
   "source": [
    "# Modulus- gives remainder\n",
    "print(45546 % 10)\n",
    "print(-48 % 7)\n",
    "# For -ve nos it gives result that should be added to give next multiple (of 7 in this case)\n",
    "print(48 % -10)"
   ]
  },
  {
   "cell_type": "code",
   "execution_count": 6,
   "id": "708be247",
   "metadata": {},
   "outputs": [
    {
     "name": "stdout",
     "output_type": "stream",
     "text": [
      "5     -6     5    \n"
     ]
    }
   ],
   "source": [
    "# Floor division - applies greatest integer function to quotient\n",
    "\n",
    "a = 45 // 8\n",
    "b = -45 // 8\n",
    "c = 45//9\n",
    "print(a,\"   \",b,\"   \",c,\"   \")"
   ]
  },
  {
   "cell_type": "code",
   "execution_count": 7,
   "id": "03e09302",
   "metadata": {},
   "outputs": [
    {
     "data": {
      "text/plain": [
       "125"
      ]
     },
     "execution_count": 7,
     "metadata": {},
     "output_type": "execute_result"
    }
   ],
   "source": [
    "# Power\n",
    "\n",
    "5 ** 3"
   ]
  },
  {
   "cell_type": "code",
   "execution_count": 8,
   "id": "f6450b94",
   "metadata": {},
   "outputs": [
    {
     "data": {
      "text/plain": [
       "5.0"
      ]
     },
     "execution_count": 8,
     "metadata": {},
     "output_type": "execute_result"
    }
   ],
   "source": [
    "# Root\n",
    "25 ** 0.5"
   ]
  },
  {
   "cell_type": "raw",
   "id": "34f4a166",
   "metadata": {},
   "source": [
    "Calculations follow precedence rule (Calc from left-right)\n",
    "1) parentheses\n",
    "2) unary\n",
    "3) Powers\n",
    "4) multiplecation division modulo\n",
    "5) + -"
   ]
  },
  {
   "cell_type": "code",
   "execution_count": 9,
   "id": "8cf1d8e6",
   "metadata": {},
   "outputs": [
    {
     "name": "stdout",
     "output_type": "stream",
     "text": [
      "-68\n",
      "14.0\n",
      "59\n",
      "6\n"
     ]
    }
   ],
   "source": [
    "print(4-8*9)\n",
    "\n",
    "# 4 - 72\n",
    "# -68\n",
    "\n",
    "print(5+6 *3/2)\n",
    "\n",
    "# 5 + 18/2\n",
    "# 5+9\n",
    "# 14.0 \n",
    "\n",
    "print(5+6*3**2)\n",
    "\n",
    "# 5 + 6 * 9\n",
    "# 5 + 54\n",
    "# 59      \n",
    "\n",
    "print((8-7) * 48 % (5 +2))\n",
    "# 1 * 48 % (5 +2)\n",
    "# 48 % (5+2)\n",
    "# 48 % 7\n",
    "# 6.0 \n"
   ]
  },
  {
   "cell_type": "code",
   "execution_count": 10,
   "id": "ad6a7c38",
   "metadata": {},
   "outputs": [
    {
     "name": "stdout",
     "output_type": "stream",
     "text": [
      "['False', 'None', 'True', '__peg_parser__', 'and', 'as', 'assert', 'async', 'await', 'break', 'class', 'continue', 'def', 'del', 'elif', 'else', 'except', 'finally', 'for', 'from', 'global', 'if', 'import', 'in', 'is', 'lambda', 'nonlocal', 'not', 'or', 'pass', 'raise', 'return', 'try', 'while', 'with', 'yield']\n",
      "36\n"
     ]
    }
   ],
   "source": [
    "# list of keywords\n",
    "\n",
    "import keyword\n",
    "print(keyword.kwlist)\n",
    "print(len(keyword.kwlist))"
   ]
  },
  {
   "cell_type": "markdown",
   "id": "879f77fc",
   "metadata": {},
   "source": [
    "Rules to write identifiers:\n",
    "    \n",
    "    Names given to entities like class, fns, arrays, variables, etc. \n",
    "    \n",
    "    # Can be a combination of letters in upper or lowercase, digits or underscore.\n",
    "      (Double underscores are also allowed (in python), but no other punctuation marks are allowed)\n",
    "    # Must NOT start with a digit\n",
    "    # Keywords can't be used as identifiers"
   ]
  },
  {
   "cell_type": "code",
   "execution_count": 11,
   "id": "db343708",
   "metadata": {},
   "outputs": [],
   "source": [
    "#_global=10\n",
    "#print(_global)\n",
    "\n",
    "#global1=\"Akshitha\"\n",
    "#print(global1)\n",
    "\n",
    "#False=45                #False is a keyword (note upper&lowercase letters)\n",
    "#print(False)\n",
    "\n",
    "#falsE=2\n",
    "#print(falsE)\n",
    "\n",
    "#5as=\"Ashwin\"\n",
    "#print(\"5as\")"
   ]
  },
  {
   "cell_type": "code",
   "execution_count": 12,
   "id": "6240b25e",
   "metadata": {},
   "outputs": [
    {
     "name": "stdout",
     "output_type": "stream",
     "text": [
      "<class 'str'>\n",
      "Good night,  akshitha\n",
      "<class 'str'>\n",
      "<class 'str'>\n"
     ]
    }
   ],
   "source": [
    "name=\"akshitha\"\n",
    "lang = \"\"\"Python\"\"\"\n",
    "animal = 'cats'\n",
    "\n",
    "print(type(name))\n",
    "print(\"Good night, \",name)\n",
    "\n",
    "print(type(lang))\n",
    "print(type(animal))\n",
    "\n",
    "# Anything enclosed in single, double or triple quotes is a string"
   ]
  },
  {
   "cell_type": "raw",
   "id": "fc04ee30",
   "metadata": {},
   "source": [
    "if we want to keeep the body empty, just write pass or otherwise it will give error\n",
    "when all args have some default value u can leave bracket empty"
   ]
  },
  {
   "cell_type": "code",
   "execution_count": 13,
   "id": "7c88b697",
   "metadata": {},
   "outputs": [
    {
     "name": "stdout",
     "output_type": "stream",
     "text": [
      "8     55\n"
     ]
    }
   ],
   "source": [
    "a=4\n",
    "b=\"5\"\n",
    "print(a+a,\"   \",b+b)"
   ]
  },
  {
   "cell_type": "code",
   "execution_count": 14,
   "id": "c497d75a",
   "metadata": {},
   "outputs": [
    {
     "name": "stdout",
     "output_type": "stream",
     "text": [
      "<class 'int'>\n",
      "<class 'str'>\n",
      "<class 'float'>\n",
      "<class 'str'>\n",
      "<class 'tuple'>\n",
      "<class 'list'>\n",
      "<class 'dict'>\n"
     ]
    }
   ],
   "source": [
    "\"\"\" DATA TYPES \"\"\"\n",
    "\n",
    "a=8\n",
    "print(type(a))\n",
    "\n",
    "a=\"apple\"\n",
    "print(type(a))\n",
    "\n",
    "a=8.0\n",
    "print(type(a))\n",
    "\n",
    "a='a'\n",
    "print(type(a))\n",
    "\n",
    "a=()\n",
    "print(type(a))\n",
    "\n",
    "a=[]\n",
    "print(type(a))\n",
    "\n",
    "a={}\n",
    "print(type(a))\n",
    "\n",
    "# Variable a is reassigned many times. \n",
    "# When a new value is given the previous value is overwritten WITH NEW ONE."
   ]
  },
  {
   "cell_type": "code",
   "execution_count": 15,
   "id": "9820ae62",
   "metadata": {},
   "outputs": [
    {
     "name": "stdout",
     "output_type": "stream",
     "text": [
      "<class 'str'>\n",
      "38\n",
      "28\n"
     ]
    }
   ],
   "source": [
    "# Multi-line comments\n",
    "\"\"\"Goodbye, I have to attend a grammarly meeting, but remember \n",
    "Writings not that easy, but Grammarly can help. This sentence is \n",
    "grammatically correct but its wordy and hard to read, it undermines\n",
    "the writer's message and the word choice is bland. \n",
    "Grammarly's cutting edge technology helps you craft compelling understandable\n",
    "writing, that makes an impact on your reader. Much better.\n",
    "Download Grammarly now!\"\"\"\n",
    "\"\"\"print(\"Comments aren't executed\")\"\"\"\n",
    "\n",
    "print(type('d'))\n",
    "\n",
    "# Multi line statements\n",
    "\n",
    "#1\n",
    "a = 4 +5 +6 +6 +\\\n",
    "    4+ 2+ 1+ 2\\\n",
    "    +5 +3\n",
    "print(a)\n",
    "\n",
    "#2\n",
    "b = (4 +8 +6 -1 +\n",
    "    4 +3 +4 -8\n",
    "    +4 +8 -1 -3)\n",
    "print(b)"
   ]
  },
  {
   "cell_type": "code",
   "execution_count": 16,
   "id": "ffcc42a0",
   "metadata": {
    "scrolled": true
   },
   "outputs": [
    {
     "name": "stdout",
     "output_type": "stream",
     "text": [
      "10 3 78\n",
      "45 36 157\n",
      "458 strings\n"
     ]
    }
   ],
   "source": [
    "# multiple stmnts in 1 line\n",
    "p = 10 ; q = 3 ; r = 78\n",
    "print(p,q,r)\n",
    "\n",
    "a = b = c = 15\n",
    "\n",
    "x , y, z = 45, 36 , 157\n",
    "print(x,y,z)\n",
    "\n",
    "f ,g = 458, \"strings\"\n",
    "print(f,g)"
   ]
  },
  {
   "cell_type": "raw",
   "id": "1d488ef8",
   "metadata": {},
   "source": [
    "By Convention,\n",
    "\n",
    "variables begin with a small letter\n",
    "class name begin with capital letter\n",
    "\n",
    "camelCase\n",
    "Titlecase"
   ]
  },
  {
   "cell_type": "code",
   "execution_count": 17,
   "id": "0ec627e4",
   "metadata": {},
   "outputs": [
    {
     "data": {
      "text/plain": [
       "'Akshithasureshrao'"
      ]
     },
     "execution_count": 17,
     "metadata": {},
     "output_type": "execute_result"
    }
   ],
   "source": [
    "s = \"akshithaSureshRao\"\n",
    "s.title()            # Camel case coverted to title case"
   ]
  },
  {
   "cell_type": "raw",
   "id": "524048b2",
   "metadata": {},
   "source": [
    "= means assignment\n",
    "== means comparison"
   ]
  },
  {
   "cell_type": "code",
   "execution_count": 18,
   "id": "7da74952",
   "metadata": {},
   "outputs": [
    {
     "name": "stdout",
     "output_type": "stream",
     "text": [
      "45\n"
     ]
    },
    {
     "data": {
      "text/plain": [
       "False"
      ]
     },
     "execution_count": 18,
     "metadata": {},
     "output_type": "execute_result"
    }
   ],
   "source": [
    "a=45\n",
    "print(a)\n",
    "a==6"
   ]
  },
  {
   "cell_type": "code",
   "execution_count": 19,
   "id": "c8e80442",
   "metadata": {},
   "outputs": [
    {
     "name": "stdout",
     "output_type": "stream",
     "text": [
      "True\n"
     ]
    }
   ],
   "source": [
    "#chapter 3&4\n",
    "print(a==45)"
   ]
  },
  {
   "cell_type": "code",
   "execution_count": 20,
   "id": "53d4f6bd",
   "metadata": {},
   "outputs": [
    {
     "name": "stdout",
     "output_type": "stream",
     "text": [
      "Is q=w? \t False\n",
      "Is it true now?\t True\n",
      "\n",
      "Is e=f? \t True\n"
     ]
    }
   ],
   "source": [
    "q=\"apple\" \n",
    "w=\"Apple\"\n",
    "print(\"Is q=w? \\t\",q==w)     # Case sensitive\n",
    "\n",
    "#For comparing, better change both to same case\n",
    "print(\"Is it true now?\\t\", q.lower()==w.lower())\n",
    "\n",
    "e=56\n",
    "f=56.00\n",
    "print(\"\\nIs e=f? \\t\",e==f)     # Although e is int n f is float"
   ]
  },
  {
   "cell_type": "markdown",
   "id": "78da918f",
   "metadata": {},
   "source": [
    "STRINGS\n",
    "\n",
    "A string is a sequence of characters.\n",
    " \n",
    "Computers do not deal with characters, they deal with numbers (binary). Even though you may see characters on your screen, internally it is stored and manipulated as a combination of 0's and 1's.\n",
    " \n",
    "This conversion of character to a number is called encoding, and the reverse process is decoding. ASCII and Unicode are some of the popular encoding used.\n",
    " \n",
    "In Python, string is a sequence of Unicode character."
   ]
  },
  {
   "cell_type": "code",
   "execution_count": 21,
   "id": "7fa51f5b",
   "metadata": {},
   "outputs": [
    {
     "data": {
      "text/plain": [
       "65"
      ]
     },
     "execution_count": 21,
     "metadata": {},
     "output_type": "execute_result"
    }
   ],
   "source": [
    "# to print ascii value of A\n",
    "ord('A')\n",
    "\n",
    "# Although ascii value of A is 65, 'A'=65 answer will be FALSE"
   ]
  },
  {
   "cell_type": "code",
   "execution_count": 22,
   "id": "9b809f98",
   "metadata": {},
   "outputs": [
    {
     "name": "stdout",
     "output_type": "stream",
     "text": [
      "THIS is my 1st string & \n",
      "THIS is the 2nd. \n",
      "\n",
      "THIS is my 1st string & \tTHIS is the 2nd.\n"
     ]
    }
   ],
   "source": [
    "s = \"THIS is my 1st string & \\nTHIS is the 2nd. \\n\\nTHIS is my 1st string & \\tTHIS is the 2nd.\"\n",
    "print(s)\n",
    "# '\\' is used to give an escape sequence"
   ]
  },
  {
   "cell_type": "code",
   "execution_count": 23,
   "id": "ac9d266f",
   "metadata": {},
   "outputs": [
    {
     "name": "stdout",
     "output_type": "stream",
     "text": [
      "Gundu likes cats\n",
      "Gundu also likes dogs\n"
     ]
    }
   ],
   "source": [
    "a = \"Gundu \"\n",
    "b = \"likes cats\"\n",
    "print(a+b)\n",
    "print(a+ \"also likes dogs\")"
   ]
  },
  {
   "cell_type": "code",
   "execution_count": 24,
   "id": "0c86b286",
   "metadata": {},
   "outputs": [
    {
     "name": "stdout",
     "output_type": "stream",
     "text": [
      "JupyterNotebook\n",
      "Jupyter Notebook\n",
      "58 Notebook\n"
     ]
    },
    {
     "ename": "TypeError",
     "evalue": "unsupported operand type(s) for +: 'int' and 'str'",
     "output_type": "error",
     "traceback": [
      "\u001b[1;31m---------------------------------------------------------------------------\u001b[0m",
      "\u001b[1;31mTypeError\u001b[0m                                 Traceback (most recent call last)",
      "\u001b[1;32mC:\\Users\\ASHWIN~1\\AppData\\Local\\Temp/ipykernel_10060/497828969.py\u001b[0m in \u001b[0;36m<module>\u001b[1;34m\u001b[0m\n\u001b[0;32m      8\u001b[0m \u001b[0ms1\u001b[0m \u001b[1;33m=\u001b[0m \u001b[1;36m58\u001b[0m\u001b[1;33m\u001b[0m\u001b[1;33m\u001b[0m\u001b[0m\n\u001b[0;32m      9\u001b[0m \u001b[0mprint\u001b[0m \u001b[1;33m(\u001b[0m\u001b[0ms1\u001b[0m\u001b[1;33m,\u001b[0m\u001b[0ms2\u001b[0m\u001b[1;33m)\u001b[0m\u001b[1;33m\u001b[0m\u001b[1;33m\u001b[0m\u001b[0m\n\u001b[1;32m---> 10\u001b[1;33m \u001b[0mprint\u001b[0m \u001b[1;33m(\u001b[0m\u001b[0ms1\u001b[0m\u001b[1;33m+\u001b[0m\u001b[0ms2\u001b[0m\u001b[1;33m)\u001b[0m\u001b[1;33m\u001b[0m\u001b[1;33m\u001b[0m\u001b[0m\n\u001b[0m",
      "\u001b[1;31mTypeError\u001b[0m: unsupported operand type(s) for +: 'int' and 'str'"
     ]
    }
   ],
   "source": [
    "s1 = \"Jupyter\"\n",
    "s2 = \"Notebook\"\n",
    "print (s1+s2)\n",
    "print (s1,s2)    # Notice the space in output\n",
    "\n",
    "# Reassigning s1 to int,\n",
    "\n",
    "s1 = 58\n",
    "print (s1,s2)\n",
    "print (s1+s2)"
   ]
  },
  {
   "cell_type": "markdown",
   "id": "e537bb75",
   "metadata": {},
   "source": [
    "print(s1+s2) gives error when s1 & s2 have different data types\n",
    "\n",
    "but print(s1,s2) works fine both ways"
   ]
  },
  {
   "cell_type": "code",
   "execution_count": 25,
   "id": "1c11c6d1",
   "metadata": {},
   "outputs": [
    {
     "name": "stdout",
     "output_type": "stream",
     "text": [
      "7\n",
      "a\n",
      "a\n"
     ]
    }
   ],
   "source": [
    "a = 'restart'\n",
    "print(len(a))         # Gives length of string (includimg spaces)\n",
    "\n",
    "# indexing & reverse\n",
    "\n",
    "print(a[4])\n",
    "print(a[-3])"
   ]
  },
  {
   "cell_type": "raw",
   "id": "0f5f4f6b",
   "metadata": {},
   "source": [
    "r = 0     -7\n",
    "e = 1     -6\n",
    "s = 2     -5\n",
    "t = 3     -4\n",
    "a = 4     -3\n",
    "r = 5     -2\n",
    "t = 6     -1"
   ]
  },
  {
   "cell_type": "code",
   "execution_count": 26,
   "id": "23833ae7",
   "metadata": {},
   "outputs": [
    {
     "data": {
      "text/plain": [
       "5"
      ]
     },
     "execution_count": 26,
     "metadata": {},
     "output_type": "execute_result"
    }
   ],
   "source": [
    "b = \"a\\tb\\nc\"\n",
    "len(b)         # Escape sequences are counted as 1"
   ]
  },
  {
   "cell_type": "code",
   "execution_count": 27,
   "id": "3094b268",
   "metadata": {},
   "outputs": [
    {
     "data": {
      "text/plain": [
       "'\\t'"
      ]
     },
     "execution_count": 27,
     "metadata": {},
     "output_type": "execute_result"
    }
   ],
   "source": [
    "b[1]"
   ]
  },
  {
   "cell_type": "code",
   "execution_count": 28,
   "id": "999578bf",
   "metadata": {},
   "outputs": [
    {
     "name": "stdout",
     "output_type": "stream",
     "text": [
      "DEMO\n",
      "DEMO\n"
     ]
    }
   ],
   "source": [
    "_s = \"PYTHONDEMOHOME\"\n",
    "print(_s[6:10])\n",
    "print(_s[-8:-4])\n",
    "\n",
    "# _s[start:end:stepsize], where end is EXCLUSIVE, default step size = 1"
   ]
  },
  {
   "cell_type": "code",
   "execution_count": 29,
   "id": "27ae6b1d",
   "metadata": {},
   "outputs": [
    {
     "data": {
      "text/plain": [
       "'DEMOHOME'"
      ]
     },
     "execution_count": 29,
     "metadata": {},
     "output_type": "execute_result"
    }
   ],
   "source": [
    "_s[6:14]"
   ]
  },
  {
   "cell_type": "code",
   "execution_count": 30,
   "id": "834bf8f0",
   "metadata": {},
   "outputs": [
    {
     "name": "stdout",
     "output_type": "stream",
     "text": [
      "YHNEO\n",
      "HMDOT\n"
     ]
    }
   ],
   "source": [
    "\"\"\"print(_s[1:5:-1])\n",
    "print(_s[-3:-10:1])\n",
    "Not possible\"\"\"\n",
    "\n",
    "print(_s[1:10:2])\n",
    "\n",
    "# -ve step size\n",
    "print(_s[10:1:-2])"
   ]
  },
  {
   "cell_type": "code",
   "execution_count": 31,
   "id": "bcf80740",
   "metadata": {},
   "outputs": [
    {
     "name": "stdout",
     "output_type": "stream",
     "text": [
      "AMBULANC\n",
      "ECNALUBMA\n"
     ]
    }
   ],
   "source": [
    "A = 'AMBULANCE'\n",
    "\n",
    "print(A[0:-1])\n",
    "print(A[::-1])      # String reverses"
   ]
  },
  {
   "cell_type": "code",
   "execution_count": 32,
   "id": "b5f8ff4d",
   "metadata": {},
   "outputs": [
    {
     "data": {
      "text/plain": [
       "'d'"
      ]
     },
     "execution_count": 32,
     "metadata": {},
     "output_type": "execute_result"
    }
   ],
   "source": [
    "s2 = 'string indexing'\n",
    "\n",
    "s2[-6]\n",
    "# d"
   ]
  },
  {
   "cell_type": "code",
   "execution_count": 33,
   "id": "7b67dc64",
   "metadata": {},
   "outputs": [
    {
     "name": "stdout",
     "output_type": "stream",
     "text": [
      " it c\n",
      "e it count\n",
      "oc ti\n",
      "count\n"
     ]
    }
   ],
   "source": [
    "s =\"Make it count\"\n",
    "\n",
    "print(s[4:9])            # ' it c'\n",
    "print(s[3:])             # Print everything after 3rd position\n",
    "print(s[-4:-9:-1])       # 'oc ti'\n",
    "print(s[8:100])          # Still gave 'count'\n"
   ]
  },
  {
   "cell_type": "code",
   "execution_count": 34,
   "id": "1f2c8e78",
   "metadata": {},
   "outputs": [
    {
     "data": {
      "text/plain": [
       "''"
      ]
     },
     "execution_count": 34,
     "metadata": {},
     "output_type": "execute_result"
    }
   ],
   "source": [
    "s = \"Whiteboard zone\"\n",
    "s[5:5]       #'' since 5th position (end) is excluded"
   ]
  },
  {
   "cell_type": "code",
   "execution_count": 36,
   "id": "6ae10b40",
   "metadata": {},
   "outputs": [
    {
     "name": "stdout",
     "output_type": "stream",
     "text": [
      "CHANGING THE CASE\n",
      "changing the case\n",
      "Changing The Case\n"
     ]
    }
   ],
   "source": [
    "s = \"changing The cAse\"\n",
    "print(s.upper())\n",
    "print(s.lower())\n",
    "print(s.title())"
   ]
  },
  {
   "cell_type": "code",
   "execution_count": 37,
   "id": "93fde08d",
   "metadata": {},
   "outputs": [
    {
     "name": "stdout",
     "output_type": "stream",
     "text": [
      "oPyth\n",
      "oPyth\n",
      "oPyth\n",
      "oPyth\n",
      "\n",
      "\n",
      "emoPy\n",
      "emoPy\n",
      "emoPy\n",
      "emoPy\n",
      "\n",
      "Python\n",
      "Python\n",
      "Python \n",
      "\n",
      "DemoP\n",
      "DemoP\n",
      "\n",
      "hon\n"
     ]
    }
   ],
   "source": [
    "s = 'DemoPython'\n",
    "\n",
    "#To print oPyth\n",
    "print(s[3:8])\n",
    "print(s[-7:-2])\n",
    "print(s[3:-2])\n",
    "print(s[-7:8])\n",
    "print(\"\\n\")\n",
    "\n",
    "#to print \"emoPy\"\n",
    "print(s[1:6])\n",
    "print(s[-9:-4])\n",
    "print(s[1:-4])\n",
    "print(s[-9:6])\n",
    "\n",
    "#To print Python\n",
    "print(\"\\n\"+ s[4:])\n",
    "print(s[-6:])\n",
    "print(s[4:10],\"\\n\")\n",
    "\n",
    "# To print DemoP\n",
    "print(s[:5])\n",
    "print(s[:-5])\n",
    "\n",
    "#Print 3 letters from end\n",
    "print(\"\\n\"+s[-3:])"
   ]
  },
  {
   "cell_type": "code",
   "execution_count": 38,
   "id": "a6dec930",
   "metadata": {},
   "outputs": [
    {
     "name": "stdout",
     "output_type": "stream",
     "text": [
      "DEMOP\n"
     ]
    }
   ],
   "source": [
    "print(s.upper()[:5])     # Indexing & Printing in uppercase"
   ]
  },
  {
   "cell_type": "code",
   "execution_count": 39,
   "id": "6cf2f147",
   "metadata": {},
   "outputs": [
    {
     "name": "stdout",
     "output_type": "stream",
     "text": [
      "nohtyPomeD\n"
     ]
    }
   ],
   "source": [
    "# Reverse the string\n",
    "print(s[::-1])"
   ]
  },
  {
   "cell_type": "code",
   "execution_count": 40,
   "id": "e655af7e",
   "metadata": {},
   "outputs": [
    {
     "name": "stdout",
     "output_type": "stream",
     "text": [
      "Can't use apostrophe b/w single quotes\n",
      "Can't use apostrophe b/w 'single quotes'\n"
     ]
    }
   ],
   "source": [
    "print(\"Can't use apostrophe b/w single quotes\")\n",
    "#print('Can't use apostrophe b/w single quotes')  # Gives error\n",
    "print('Can\\'t use apostrophe b/w \\'single quotes\\'')  # Now works fine coz of \\"
   ]
  },
  {
   "cell_type": "code",
   "execution_count": 41,
   "id": "c1a986e7",
   "metadata": {},
   "outputs": [
    {
     "name": "stdout",
     "output_type": "stream",
     "text": [
      "|My Notebook|\n",
      "|My Notebook   |\n",
      "|   My Notebook|\n"
     ]
    }
   ],
   "source": [
    "# Stripping whitespaces\n",
    "x = \"   My Notebook   \"\n",
    "print(\"|\"+ x.strip() +\"|\")       # Strips spaces in beginning & end\n",
    "print(\"|\"+ x.lstrip()+ \"|\")      # Strips spaces on left\n",
    "print(\"|\"+ x.rstrip() +\"|\")      # Strips spaces on right"
   ]
  },
  {
   "cell_type": "code",
   "execution_count": 42,
   "id": "53c7da55",
   "metadata": {},
   "outputs": [
    {
     "data": {
      "text/plain": [
       "'Hello everyone in the World'"
      ]
     },
     "execution_count": 42,
     "metadata": {},
     "output_type": "execute_result"
    }
   ],
   "source": [
    "s1 = \"Hello\"\n",
    "s2 = \"World\"\n",
    "s1+ \" \" + \"everyone in the \"+s2"
   ]
  },
  {
   "cell_type": "code",
   "execution_count": 52,
   "id": "eccde206",
   "metadata": {},
   "outputs": [
    {
     "name": "stdout",
     "output_type": "stream",
     "text": [
      "BotanicalExtract\n",
      "BotanicalExtract\n",
      "tcartxE\n",
      "tcartxE\n",
      "yvi\n",
      "yvi\n",
      "yvi\n"
     ]
    }
   ],
   "source": [
    "s = \"Ayurvedic BotanicalExtract Recipe\"\n",
    "\n",
    "#q1:Print BotanicalExtract\n",
    "print(s[10:26])\n",
    "print(s[-23:-7])\n",
    "\n",
    "#q2: Print tcartxE\n",
    "print(s[-8:-15:-1])\n",
    "print(s[25:18:-1])\n",
    "\n",
    "#q3: Print yvi\n",
    "print(s[1:8:3])\n",
    "print(s[-32:-25:3])\n",
    "print(s[1:9:3])       # works well as step size = 6"
   ]
  },
  {
   "cell_type": "code",
   "execution_count": 53,
   "id": "5d07ad53",
   "metadata": {},
   "outputs": [],
   "source": [
    "s =\"Demo\"\n",
    "#s[1] = \"u\"    # TypeError: 'str' object does not support item assignment"
   ]
  },
  {
   "cell_type": "code",
   "execution_count": 55,
   "id": "bff73051",
   "metadata": {},
   "outputs": [
    {
     "data": {
      "text/plain": [
       "'055'"
      ]
     },
     "execution_count": 55,
     "metadata": {},
     "output_type": "execute_result"
    }
   ],
   "source": [
    "s =\"203045050550\"\n",
    "s[3:9:2]             # '055'"
   ]
  },
  {
   "cell_type": "code",
   "execution_count": 60,
   "id": "30239ab2",
   "metadata": {},
   "outputs": [
    {
     "name": "stdout",
     "output_type": "stream",
     "text": [
      " a\n",
      "146\n",
      "1234\n",
      "567\n"
     ]
    }
   ],
   "source": [
    "g =\"stop share 1234\\n567\"\n",
    "print(g[4:10:3])          # ' a'\n",
    "print(g[-8::3])           # '146'\n",
    "print(g[-8:])"
   ]
  },
  {
   "cell_type": "code",
   "execution_count": null,
   "id": "31e12e6d",
   "metadata": {},
   "outputs": [],
   "source": []
  }
 ],
 "metadata": {
  "kernelspec": {
   "display_name": "Python 3 (ipykernel)",
   "language": "python",
   "name": "python3"
  },
  "language_info": {
   "codemirror_mode": {
    "name": "ipython",
    "version": 3
   },
   "file_extension": ".py",
   "mimetype": "text/x-python",
   "name": "python",
   "nbconvert_exporter": "python",
   "pygments_lexer": "ipython3",
   "version": "3.9.7"
  }
 },
 "nbformat": 4,
 "nbformat_minor": 5
}
