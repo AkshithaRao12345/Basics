{
 "cells": [
  {
   "cell_type": "code",
   "execution_count": null,
   "id": "309b6fde",
   "metadata": {},
   "outputs": [],
   "source": [
    "#This is a comment\n",
    "\n",
    "4+3"
   ]
  },
  {
   "cell_type": "code",
   "execution_count": null,
   "id": "5d5beae1",
   "metadata": {},
   "outputs": [],
   "source": [
    "9*7"
   ]
  },
  {
   "cell_type": "code",
   "execution_count": null,
   "id": "4d53c849",
   "metadata": {},
   "outputs": [],
   "source": [
    "6-5"
   ]
  },
  {
   "cell_type": "code",
   "execution_count": null,
   "id": "9b55ad56",
   "metadata": {},
   "outputs": [],
   "source": [
    "100/5"
   ]
  },
  {
   "cell_type": "code",
   "execution_count": 5,
   "id": "ad6a7c38",
   "metadata": {},
   "outputs": [
    {
     "name": "stdout",
     "output_type": "stream",
     "text": [
      "['False', 'None', 'True', '__peg_parser__', 'and', 'as', 'assert', 'async', 'await', 'break', 'class', 'continue', 'def', 'del', 'elif', 'else', 'except', 'finally', 'for', 'from', 'global', 'if', 'import', 'in', 'is', 'lambda', 'nonlocal', 'not', 'or', 'pass', 'raise', 'return', 'try', 'while', 'with', 'yield']\n",
      "36\n"
     ]
    }
   ],
   "source": [
    "# list of keywords\n",
    "import keyword\n",
    "print(keyword.kwlist)\n",
    "print(len(keyword.kwlist))"
   ]
  },
  {
   "cell_type": "markdown",
   "id": "879f77fc",
   "metadata": {},
   "source": [
    "Rules to write identifiers:\n",
    "    \n",
    "    Names given to entities like class, fns, arrays, vaariables, etc. \n",
    "    \n",
    "    # Can be a combination of letters in upper or lowercase, digits or underscore.\n",
    "      (Double underscores are also allowed (in python), but no other punctuation marks are allowed)\n",
    "    # Must NOT start with a digit\n",
    "    # Keywords can't be used as identifiers"
   ]
  },
  {
   "cell_type": "code",
   "execution_count": 4,
   "id": "db343708",
   "metadata": {},
   "outputs": [],
   "source": [
    "#_global=10\n",
    "#print(_global)\n",
    "\n",
    "#global1=\"Akshitha\"\n",
    "#print(global1)\n",
    "\n",
    "#False=45                #False is a keyword (note upper&lowercase letters)\n",
    "#print(False)\n",
    "\n",
    "#falsE=2\n",
    "#print(falsE)\n",
    "\n",
    "#5as=\"Ashwin\"\n",
    "#print(\"5as\")"
   ]
  },
  {
   "cell_type": "code",
   "execution_count": 6,
   "id": "6240b25e",
   "metadata": {},
   "outputs": [
    {
     "name": "stdout",
     "output_type": "stream",
     "text": [
      "<class 'str'>\n",
      "Good night,  akshitha\n"
     ]
    }
   ],
   "source": [
    "name=\"akshitha\"\n",
    "print(type(name))\n",
    "print(\"Good night, \",name)\n",
    "\n",
    "# Anything enclosed in single, double or triple quotes is a string"
   ]
  },
  {
   "cell_type": "code",
   "execution_count": 2,
   "id": "48fad6e4",
   "metadata": {},
   "outputs": [
    {
     "data": {
      "text/plain": [
       "65"
      ]
     },
     "execution_count": 2,
     "metadata": {},
     "output_type": "execute_result"
    }
   ],
   "source": [
    "# to print ascii value of A\n",
    "ord('A')\n",
    "\n",
    "# Although ascii value of A is 65, 'A'=65 answer will be FALSE"
   ]
  },
  {
   "cell_type": "code",
   "execution_count": null,
   "id": "41ff94fb",
   "metadata": {},
   "outputs": [],
   "source": [
    "if we want to keeep the body empty, just write pass or otherwise it will give error\n",
    "when all args have some default value u can leave bracket empty"
   ]
  },
  {
   "cell_type": "code",
   "execution_count": 5,
   "id": "7c88b697",
   "metadata": {},
   "outputs": [
    {
     "name": "stdout",
     "output_type": "stream",
     "text": [
      "8     55\n"
     ]
    }
   ],
   "source": [
    "a=4\n",
    "b=\"5\"\n",
    "print(a+a,\"   \",b+b)"
   ]
  },
  {
   "cell_type": "code",
   "execution_count": 9,
   "id": "c497d75a",
   "metadata": {},
   "outputs": [
    {
     "name": "stdout",
     "output_type": "stream",
     "text": [
      "<class 'int'>\n",
      "<class 'str'>\n",
      "<class 'float'>\n",
      "<class 'str'>\n",
      "<class 'tuple'>\n",
      "<class 'list'>\n",
      "<class 'dict'>\n"
     ]
    }
   ],
   "source": [
    "a=8\n",
    "print(type(a))\n",
    "\n",
    "a=\"apple\"\n",
    "print(type(a))\n",
    "\n",
    "a=8.0\n",
    "print(type(a))\n",
    "\n",
    "a='a'\n",
    "print(type(a))\n",
    "\n",
    "a=()\n",
    "print(type(a))\n",
    "\n",
    "a=[]\n",
    "print(type(a))\n",
    "\n",
    "a={}\n",
    "print(type(a))"
   ]
  },
  {
   "cell_type": "code",
   "execution_count": 19,
   "id": "9820ae62",
   "metadata": {},
   "outputs": [
    {
     "name": "stdout",
     "output_type": "stream",
     "text": [
      "<class 'str'>\n",
      "38\n",
      "28\n"
     ]
    }
   ],
   "source": [
    "# Multi-line comments\n",
    "\"\"\"Goodbye, I have to attend a grammarly meeting, but remember \n",
    "Writings not that easy, but Grammarly can help. This sentence is \n",
    "grammatically correct but its wordy and hard to read, it undermines\n",
    "the writer's message and the word choice is bland. \n",
    "Grammarly's cutting edge technology helps you craft compelling understandable\n",
    "that makes an impact on your reader. Much better.\"\"\"\n",
    "\"\"\"print(\"Comments aren't executed\")\"\"\"\n",
    "\n",
    "print(type('d'))\n",
    "\n",
    "# Multi line statements\n",
    "\n",
    "#1\n",
    "a = 4 +5 +6 +6 +\\\n",
    "    4+ 2+ 1+ 2\\\n",
    "    +5 +3\n",
    "print(a)\n",
    "\n",
    "#2\n",
    "b = (4 +8 +6 -1 +\n",
    "    4 +3 +4 -8\n",
    "    +4 +8 -1 -3)\n",
    "print(b)"
   ]
  },
  {
   "cell_type": "code",
   "execution_count": 25,
   "id": "ffcc42a0",
   "metadata": {},
   "outputs": [
    {
     "name": "stdout",
     "output_type": "stream",
     "text": [
      "10 3 78\n",
      "45 36 157\n",
      "458 strings\n"
     ]
    }
   ],
   "source": [
    "# multiple stmnts in 1 line\n",
    "p = 10 ; q = 3 ; r = 78\n",
    "print(p,q,r)\n",
    "\n",
    "a = b = c = 15\n",
    "\n",
    "x , y, z = 45, 36 , 157\n",
    "print(x,y,z)\n",
    "\n",
    "f ,g = 458, \"strings\"\n",
    "print(f,g)"
   ]
  },
  {
   "cell_type": "raw",
   "id": "1d488ef8",
   "metadata": {},
   "source": [
    "variables begin with a small letter\n",
    "class name begin with capital letter\n",
    "just for convention"
   ]
  },
  {
   "cell_type": "code",
   "execution_count": null,
   "id": "b53b5731",
   "metadata": {},
   "outputs": [],
   "source": []
  }
 ],
 "metadata": {
  "kernelspec": {
   "display_name": "Python 3 (ipykernel)",
   "language": "python",
   "name": "python3"
  },
  "language_info": {
   "codemirror_mode": {
    "name": "ipython",
    "version": 3
   },
   "file_extension": ".py",
   "mimetype": "text/x-python",
   "name": "python",
   "nbconvert_exporter": "python",
   "pygments_lexer": "ipython3",
   "version": "3.9.7"
  }
 },
 "nbformat": 4,
 "nbformat_minor": 5
}
